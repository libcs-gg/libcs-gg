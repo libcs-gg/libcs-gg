{
 "cells": [
  {
   "cell_type": "code",
   "execution_count": 84,
   "metadata": {},
   "outputs": [
    {
     "name": "stdout",
     "output_type": "stream",
     "text": [
      "Populating the interactive namespace from numpy and matplotlib\n"
     ]
    },
    {
     "data": {
      "text/plain": [
       "'\\nplt.text()方法\\n'"
      ]
     },
     "execution_count": 84,
     "metadata": {},
     "output_type": "execute_result"
    }
   ],
   "source": [
    "%pylab inline\n",
    "import numpy as np\n",
    "import matplotlib.pylab as plt \n",
    "# 第七章 一个综合案例\n",
    "# 综合应用 Matplotlib 和 NumPy ，设计一个简单的滑动窗口的程序\n",
    "# ------------------------------------------------------------------------\n",
    "# 第三节 操作 Axes对象中 文本框的绘制\n",
    "'''\n",
    "1、plt.text()方法\n",
    "'''\n",
    "\n",
    "#########\n",
    "\n",
    "\n"
   ]
  },
  {
   "cell_type": "code",
   "execution_count": 85,
   "metadata": {},
   "outputs": [
    {
     "data": {
      "image/png": "[encoded data removed]",
      "text/plain": [
       "<Figure size 216x72 with 1 Axes>"
      ]
     },
     "metadata": {
      "needs_background": "light"
     },
     "output_type": "display_data"
    }
   ],
   "source": [
    "data = np.ones((1,3))\n",
    "data[:,:2] = 0.85\n",
    "fig, ax = plt.subplots(figsize=(3,1))\n",
    "ax.grid(color='blue')\n",
    "ax.imshow(data, cmap='gray', vmin=0, vmax=1)\n",
    "ty = ax.set_yticks(np.arange(-0.5, 0.51, 1))\n",
    "tx = ax.set_xticks(np.arange(-0.5,2.6,1))\n",
    "#t01x = ax.set_xticks(np.arange(-0.5, 2.6, 0.25))\n",
    "#t01y = ax.set_yticks(np.arange(-0.5, 0.51, 0.25))"
   ]
  },
  {
   "cell_type": "code",
   "execution_count": 86,
   "metadata": {},
   "outputs": [
    {
     "data": {
      "image/png": "[encoded data removed]",
      "text/plain": [
       "<Figure size 432x288 with 1 Axes>"
      ]
     },
     "metadata": {
      "needs_background": "light"
     },
     "output_type": "display_data"
    }
   ],
   "source": [
    "tx0 = plt.text(0.4,0.4,'A',color='r',fontsize=80)"
   ]
  },
  {
   "cell_type": "code",
   "execution_count": 87,
   "metadata": {},
   "outputs": [
    {
     "data": {
      "text/plain": [
       "matplotlib.text.Text"
      ]
     },
     "execution_count": 87,
     "metadata": {},
     "output_type": "execute_result"
    }
   ],
   "source": [
    "type(tx0)"
   ]
  },
  {
   "cell_type": "code",
   "execution_count": 88,
   "metadata": {},
   "outputs": [],
   "source": [
    "txa = ax.text(0,0.1,'A',color='r',fontsize=46,va='center',ha='center')\n",
    "txb = ax.text(1,0.1,'B',color='r',fontsize=46,va='center',ha='center')\n",
    "txc = ax.text(2,0.1,'C',color='r',fontsize=46,va='center',ha='center')"
   ]
  },
  {
   "cell_type": "code",
   "execution_count": 89,
   "metadata": {},
   "outputs": [
    {
     "data": {
      "image/png": "[encoded data removed]",
      "text/plain": [
       "<Figure size 216x72 with 1 Axes>"
      ]
     },
     "execution_count": 89,
     "metadata": {},
     "output_type": "execute_result"
    }
   ],
   "source": [
    "fig"
   ]
  },
  {
   "cell_type": "code",
   "execution_count": 90,
   "metadata": {},
   "outputs": [],
   "source": [
    "'''\n",
    "2、改变边框的颜色， ax.spines()方法与set_color()方法\n",
    "'''\n",
    "\n",
    "#########\n",
    "ax.spines ['left'].set_color ('b')\n",
    "ax.spines ['top'].set_color ('b')\n",
    "ax.spines ['right'].set_color ('b')\n",
    "ax.spines ['bottom'].set_color ('b')"
   ]
  },
  {
   "cell_type": "code",
   "execution_count": 91,
   "metadata": {},
   "outputs": [],
   "source": [
    "ly = ax.get_yticklines()\n",
    "lx = ax.get_xticklines()\n",
    "for l in ly:\n",
    "    l.set_visible(False)\n",
    "for l in lx:\n",
    "    l.set_visible(False)"
   ]
  },
  {
   "cell_type": "code",
   "execution_count": 92,
   "metadata": {},
   "outputs": [
    {
     "data": {
      "image/png": "[encoded data removed]",
      "text/plain": [
       "<Figure size 216x72 with 1 Axes>"
      ]
     },
     "execution_count": 92,
     "metadata": {},
     "output_type": "execute_result"
    }
   ],
   "source": [
    "lbsx = ax.get_xticklabels()\n",
    "lbsy = ax.get_yticklabels()\n",
    "for l in lbsx:\n",
    "    l.set_visible(False)\n",
    "for l in lbsy:\n",
    "    l.set_visible(False)\n",
    "fig"
   ]
  },
  {
   "cell_type": "code",
   "execution_count": null,
   "metadata": {},
   "outputs": [],
   "source": []
  },
  {
   "cell_type": "code",
   "execution_count": null,
   "metadata": {},
   "outputs": [],
   "source": []
  }
 ],
 "metadata": {
  "kernelspec": {
   "display_name": "Python 3",
   "language": "python",
   "name": "python3"
  },
  "language_info": {
   "codemirror_mode": {
    "name": "ipython",
    "version": 3
   },
   "file_extension": ".py",
   "mimetype": "text/x-python",
   "name": "python",
   "nbconvert_exporter": "python",
   "pygments_lexer": "ipython3",
   "version": "3.6.10"
  }
 },
 "nbformat": 4,
 "nbformat_minor": 4
}
